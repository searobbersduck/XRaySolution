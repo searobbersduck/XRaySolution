{
 "cells": [
  {
   "cell_type": "code",
   "execution_count": 1,
   "metadata": {},
   "outputs": [],
   "source": [
    "import os\n",
    "import sys\n",
    "sys.path.append('../')\n",
    "sys.path.append('../train')\n",
    "os.environ['CUDA_VISIBLE_DEVICES']='5'\n",
    "import matplotlib.pyplot as plt\n",
    "%matplotlib inline\n",
    "import numpy as np\n",
    "import cv2\n",
    "from PIL import Image\n",
    "from glob import glob"
   ]
  },
  {
   "cell_type": "code",
   "execution_count": 2,
   "metadata": {},
   "outputs": [],
   "source": [
    "from resnet import *\n",
    "from dr_model import *"
   ]
  },
  {
   "cell_type": "code",
   "execution_count": 3,
   "metadata": {},
   "outputs": [],
   "source": [
    "model = DRModel('rsn34', 1024, 2)"
   ]
  },
  {
   "cell_type": "code",
   "execution_count": 4,
   "metadata": {},
   "outputs": [
    {
     "data": {
      "text/plain": [
       "<All keys matched successfully>"
      ]
     },
     "execution_count": 4,
     "metadata": {},
     "output_type": "execute_result"
    }
   ],
   "source": [
    "weights_file = './dr_cls_yyy/ct_pos_recognition_0020_best.pth'\n",
    "model.load_state_dict(torch.load(weights_file))"
   ]
  },
  {
   "cell_type": "code",
   "execution_count": 5,
   "metadata": {},
   "outputs": [],
   "source": [
    "# def get_mask(img, model, alpha):\n",
    "# #     model.eval()\n",
    "#     img1 = img.copy()\n",
    "#     img1 = np.array(img1, dtype=np.float)\n",
    "#     input_img = torch.from_numpy(img1)\n",
    "\n",
    "#     input_img = torch.unsqueeze(input_img, 0)\n",
    "#     input_img = torch.unsqueeze(input_img, 0)\n",
    "    \n",
    "# #     input_img /= 255\n",
    "    \n",
    "#     weights=list(list(model.children())[-1].parameters())[0]\n",
    "#     model_feat4 = torch.nn.Sequential(*list(model.children())[:-1])\n",
    "    \n",
    "#     model_feat4 = torch.nn.DataParallel(model_feat4).cuda()\n",
    "#     model_feat4.eval()\n",
    "#     img_feat4 = model_feat4(input_img.float().cuda())\n",
    "#     model = torch.nn.DataParallel(model).cuda()\n",
    "#     model.eval()\n",
    "#     result = model(input_img.float().cuda())\n",
    "#     result1 = torch.nn.Softmax()(result)\n",
    "# #     print(result1)\n",
    "# #     print(torch.argmax(result1))\n",
    "#     position = torch.argmax(result1).cpu().detach().numpy()\n",
    "    \n",
    "#     attn_feat4 = torch.squeeze(img_feat4)\n",
    "    \n",
    "# #     print(img_feat4.shape)\n",
    "# #     print(attn_feat4.shape)\n",
    "# #     print(weights.shape)\n",
    "#     heat_map = torch.matmul(attn_feat4.permute([1,2,0]), weights.transpose(1,0))\n",
    "    \n",
    "#     heat_map = heat_map.cpu().detach().numpy()\n",
    "    \n",
    "#     print(result1)\n",
    "#     print(torch.argmax(result1).cpu().detach().numpy())\n",
    "#     print(heat_map.shape)\n",
    "# #     mask=cv2.resize(np.sum(heat_map, 2)/2, (1024,1024))\n",
    "#     sub_heat_map = heat_map[:,:,torch.argmax(result1).cpu().detach().numpy()]\n",
    "    \n",
    "#     min_v = np.min(sub_heat_map)\n",
    "#     max_v = np.max(sub_heat_map)\n",
    "#     sub_heat_map = (sub_heat_map-min_v)/(max_v-min_v)\n",
    "# #     sub_heat_map[sub_heat_map<0.8]=0\n",
    "#     sub_heat_map = np.square(sub_heat_map)\n",
    "\n",
    "#     mask=cv2.resize(sub_heat_map, (1024,1024))\n",
    "    \n",
    "# #     mask=cv2.resize(heat_map[:,:,torch.argmax(result1).cpu().detach().numpy()]/5, (1024,1024))\n",
    "# #     mask=cv2.resize(heat_map[:,:,2]/5, (1024,1024))\n",
    "    \n",
    "#     heat_map = cv2.applyColorMap(np.uint8(255*mask), cv2.COLORMAP_JET)\n",
    "    \n",
    "#     img_rgb = cv2.cvtColor(img, cv2.COLOR_GRAY2RGB)\n",
    "    \n",
    "# #     plt.figure()\n",
    "# #     plt.imshow(img_rgb)\n",
    "    \n",
    "# #     attn_img = img_rgb*alpha+(1-alpha)*heat_map\n",
    "#     attn_img = img_rgb+heat_map\n",
    "\n",
    "#     return attn_img, heat_map, position"
   ]
  },
  {
   "cell_type": "code",
   "execution_count": 9,
   "metadata": {},
   "outputs": [],
   "source": [
    "def get_mask(img, model, alpha, img_file):\n",
    "#     model.eval()\n",
    "    img1 = img.copy()\n",
    "    img1 = np.array(img1, dtype=np.float)\n",
    "    input_img = torch.from_numpy(img1)\n",
    "\n",
    "    input_img = torch.unsqueeze(input_img, 0)\n",
    "    input_img = torch.unsqueeze(input_img, 0)\n",
    "    \n",
    "#     input_img /= 255\n",
    "    \n",
    "    weights=list(list(model.children())[-1].parameters())[0]\n",
    "    model_feat4 = torch.nn.Sequential(*list(model.children())[:-1])\n",
    "    \n",
    "    model_feat4 = torch.nn.DataParallel(model_feat4).cuda()\n",
    "    model_feat4.eval()\n",
    "    img_feat4 = model_feat4(input_img.float().cuda())\n",
    "    model = torch.nn.DataParallel(model).cuda()\n",
    "    model.eval()\n",
    "    result = model(input_img.float().cuda())\n",
    "    result1 = torch.nn.Softmax()(result)\n",
    "#     print(result1)\n",
    "#     print(torch.argmax(result1))\n",
    "    position = torch.argmax(result1).cpu().detach().numpy()\n",
    "    \n",
    "    attn_feat4 = torch.squeeze(img_feat4)\n",
    "    \n",
    "#     print(img_feat4.shape)\n",
    "#     print(attn_feat4.shape)\n",
    "#     print(weights.shape)\n",
    "\n",
    "\n",
    "    output = img_feat4\n",
    "    weights1 = list(model_feat4.parameters())[-2][1]\n",
    "    heatmap = None\n",
    "    print('xxx')\n",
    "    print(weights1.shape)\n",
    "    print(heatmap.shape)\n",
    "    for i in range (0, len(weights1)):\n",
    "        map = output[0,i,:,:]\n",
    "        if i == 0: heatmap = weights1[i] * map\n",
    "        else: heatmap += weights1[i] * map\n",
    "\n",
    "    npHeatmap = heatmap.cpu().data.numpy()\n",
    "    cam = npHeatmap / np.max(npHeatmap)\n",
    "    transCrop = 1024\n",
    "    cam = cv2.resize(cam, (transCrop, transCrop))\n",
    "    heatmap = cv2.applyColorMap(np.uint8(255*cam), cv2.COLORMAP_JET)\n",
    "#     imgOriginal = cv2.cvtColor(img, cv2.COLOR_GRAY2RGB)\n",
    "    imgOriginal = cv2.imread(img_file, 1)\n",
    "    imgOriginal = cv2.resize(imgOriginal, (transCrop, transCrop))\n",
    "    imgx = heatmap * 0.5 + imgOriginal\n",
    "    \n",
    "    \n",
    "\n",
    "    heat_map = torch.matmul(attn_feat4.permute([1,2,0]), weights.transpose(1,0))\n",
    "    \n",
    "    heat_map = heat_map.cpu().detach().numpy()\n",
    "    \n",
    "    print(result1)\n",
    "    print(torch.argmax(result1).cpu().detach().numpy())\n",
    "    print(heat_map.shape)\n",
    "#     mask=cv2.resize(np.sum(heat_map, 2)/2, (1024,1024))\n",
    "    sub_heat_map = heat_map[:,:,torch.argmax(result1).cpu().detach().numpy()]\n",
    "    \n",
    "    min_v = np.min(sub_heat_map)\n",
    "    max_v = np.max(sub_heat_map)\n",
    "    sub_heat_map = (sub_heat_map-min_v)/(max_v-min_v)\n",
    "#     sub_heat_map[sub_heat_map<0.8]=0\n",
    "    sub_heat_map = np.square(sub_heat_map)\n",
    "\n",
    "    mask=cv2.resize(sub_heat_map, (1024,1024))\n",
    "    \n",
    "#     mask=cv2.resize(heat_map[:,:,torch.argmax(result1).cpu().detach().numpy()]/5, (1024,1024))\n",
    "#     mask=cv2.resize(heat_map[:,:,2]/5, (1024,1024))\n",
    "    \n",
    "    heat_map = cv2.applyColorMap(np.uint8(255*mask), cv2.COLORMAP_JET)\n",
    "    \n",
    "    img_rgb = cv2.cvtColor(img, cv2.COLOR_GRAY2RGB)\n",
    "    \n",
    "#     plt.figure()\n",
    "#     plt.imshow(img_rgb)\n",
    "    \n",
    "#     attn_img = img_rgb*alpha+(1-alpha)*heat_map\n",
    "    attn_img = img_rgb+heat_map\n",
    "\n",
    "    return imgx, heatmap, position"
   ]
  },
  {
   "cell_type": "code",
   "execution_count": 10,
   "metadata": {},
   "outputs": [],
   "source": [
    "def plot_attention_area(img_file):\n",
    "    img = cv2.imread(img_file, cv2.IMREAD_GRAYSCALE)\n",
    "#     img = cv2.imread(img_file, cv2.IMREAD_GRAYSCALE)\n",
    "    img = cv2.resize(img, (1024,1024))\n",
    "    \n",
    "    \n",
    "    alpha = 0.5\n",
    "    attn_img, mask, position = get_mask(img, model, alpha, img_file)\n",
    "    \n",
    "#     if position != 1 and position != 0:\n",
    "#         return\n",
    "\n",
    "    plt.figure(figsize=(15,10))\n",
    "    plt.subplot(1,3,1)\n",
    "    plt.imshow(attn_img)\n",
    "    plt.subplot(1,3,2)\n",
    "    plt.imshow(mask)\n",
    "    plt.subplot(1,3,3)\n",
    "    plt.xlabel('position:{}'.format(position))\n",
    "    img = cv2.cvtColor(img, cv2.COLOR_GRAY2BGR)\n",
    "    plt.imshow(img)\n",
    "    plt.show()"
   ]
  },
  {
   "cell_type": "code",
   "execution_count": 11,
   "metadata": {},
   "outputs": [
    {
     "name": "stdout",
     "output_type": "stream",
     "text": [
      "xxx\n",
      "torch.Size([])\n"
     ]
    },
    {
     "name": "stderr",
     "output_type": "stream",
     "text": [
      "/home/zhangwd/.conda/envs/py36/lib/python3.6/site-packages/ipykernel_launcher.py:21: UserWarning: Implicit dimension choice for softmax has been deprecated. Change the call to include dim=X as an argument.\n"
     ]
    },
    {
     "ename": "AttributeError",
     "evalue": "'NoneType' object has no attribute 'shape'",
     "output_type": "error",
     "traceback": [
      "\u001b[0;31m---------------------------------------------------------------------------\u001b[0m",
      "\u001b[0;31mAttributeError\u001b[0m                            Traceback (most recent call last)",
      "\u001b[0;32m<ipython-input-11-2b270e654cde>\u001b[0m in \u001b[0;36m<module>\u001b[0;34m\u001b[0m\n\u001b[1;32m      1\u001b[0m \u001b[0mimg_file\u001b[0m \u001b[0;34m=\u001b[0m \u001b[0;34m'/data/zhangwd/data/external/xray/openi/data/CXR2041_IM-0685-3001.png'\u001b[0m\u001b[0;34m\u001b[0m\u001b[0;34m\u001b[0m\u001b[0m\n\u001b[0;32m----> 2\u001b[0;31m \u001b[0mplot_attention_area\u001b[0m\u001b[0;34m(\u001b[0m\u001b[0mimg_file\u001b[0m\u001b[0;34m)\u001b[0m\u001b[0;34m\u001b[0m\u001b[0;34m\u001b[0m\u001b[0m\n\u001b[0m",
      "\u001b[0;32m<ipython-input-10-90831646fbea>\u001b[0m in \u001b[0;36mplot_attention_area\u001b[0;34m(img_file)\u001b[0m\n\u001b[1;32m      6\u001b[0m \u001b[0;34m\u001b[0m\u001b[0m\n\u001b[1;32m      7\u001b[0m     \u001b[0malpha\u001b[0m \u001b[0;34m=\u001b[0m \u001b[0;36m0.5\u001b[0m\u001b[0;34m\u001b[0m\u001b[0;34m\u001b[0m\u001b[0m\n\u001b[0;32m----> 8\u001b[0;31m     \u001b[0mattn_img\u001b[0m\u001b[0;34m,\u001b[0m \u001b[0mmask\u001b[0m\u001b[0;34m,\u001b[0m \u001b[0mposition\u001b[0m \u001b[0;34m=\u001b[0m \u001b[0mget_mask\u001b[0m\u001b[0;34m(\u001b[0m\u001b[0mimg\u001b[0m\u001b[0;34m,\u001b[0m \u001b[0mmodel\u001b[0m\u001b[0;34m,\u001b[0m \u001b[0malpha\u001b[0m\u001b[0;34m,\u001b[0m \u001b[0mimg_file\u001b[0m\u001b[0;34m)\u001b[0m\u001b[0;34m\u001b[0m\u001b[0;34m\u001b[0m\u001b[0m\n\u001b[0m\u001b[1;32m      9\u001b[0m \u001b[0;34m\u001b[0m\u001b[0m\n\u001b[1;32m     10\u001b[0m \u001b[0;31m#     if position != 1 and position != 0:\u001b[0m\u001b[0;34m\u001b[0m\u001b[0;34m\u001b[0m\u001b[0;34m\u001b[0m\u001b[0m\n",
      "\u001b[0;32m<ipython-input-9-4f07a7b973bf>\u001b[0m in \u001b[0;36mget_mask\u001b[0;34m(img, model, alpha, img_file)\u001b[0m\n\u001b[1;32m     36\u001b[0m     \u001b[0mprint\u001b[0m\u001b[0;34m(\u001b[0m\u001b[0;34m'xxx'\u001b[0m\u001b[0;34m)\u001b[0m\u001b[0;34m\u001b[0m\u001b[0;34m\u001b[0m\u001b[0m\n\u001b[1;32m     37\u001b[0m     \u001b[0mprint\u001b[0m\u001b[0;34m(\u001b[0m\u001b[0mweights1\u001b[0m\u001b[0;34m.\u001b[0m\u001b[0mshape\u001b[0m\u001b[0;34m)\u001b[0m\u001b[0;34m\u001b[0m\u001b[0;34m\u001b[0m\u001b[0m\n\u001b[0;32m---> 38\u001b[0;31m     \u001b[0mprint\u001b[0m\u001b[0;34m(\u001b[0m\u001b[0mheatmap\u001b[0m\u001b[0;34m.\u001b[0m\u001b[0mshape\u001b[0m\u001b[0;34m)\u001b[0m\u001b[0;34m\u001b[0m\u001b[0;34m\u001b[0m\u001b[0m\n\u001b[0m\u001b[1;32m     39\u001b[0m     \u001b[0;32mfor\u001b[0m \u001b[0mi\u001b[0m \u001b[0;32min\u001b[0m \u001b[0mrange\u001b[0m \u001b[0;34m(\u001b[0m\u001b[0;36m0\u001b[0m\u001b[0;34m,\u001b[0m \u001b[0mlen\u001b[0m\u001b[0;34m(\u001b[0m\u001b[0mweights1\u001b[0m\u001b[0;34m)\u001b[0m\u001b[0;34m)\u001b[0m\u001b[0;34m:\u001b[0m\u001b[0;34m\u001b[0m\u001b[0;34m\u001b[0m\u001b[0m\n\u001b[1;32m     40\u001b[0m         \u001b[0mmap\u001b[0m \u001b[0;34m=\u001b[0m \u001b[0moutput\u001b[0m\u001b[0;34m[\u001b[0m\u001b[0;36m0\u001b[0m\u001b[0;34m,\u001b[0m\u001b[0mi\u001b[0m\u001b[0;34m,\u001b[0m\u001b[0;34m:\u001b[0m\u001b[0;34m,\u001b[0m\u001b[0;34m:\u001b[0m\u001b[0;34m]\u001b[0m\u001b[0;34m\u001b[0m\u001b[0;34m\u001b[0m\u001b[0m\n",
      "\u001b[0;31mAttributeError\u001b[0m: 'NoneType' object has no attribute 'shape'"
     ]
    }
   ],
   "source": [
    "img_file = '/data/zhangwd/data/external/xray/openi/data/CXR2041_IM-0685-3001.png'\n",
    "plot_attention_area(img_file)"
   ]
  },
  {
   "cell_type": "code",
   "execution_count": null,
   "metadata": {},
   "outputs": [],
   "source": [
    "def plot_cam(config_file):\n",
    "    with open(config_file,encoding='gb2312') as f:\n",
    "        config = json.load(f)\n",
    "    val_file = config[\"test_list_file\"]\n",
    "    pos_files  = []\n",
    "    neg_files = []\n",
    "    with open(val_file) as f:\n",
    "        for line in f.readlines():\n",
    "            line = line.strip()\n",
    "            if line is None or len(line) == 0:\n",
    "                continue\n",
    "            ss = line.split('\\t')\n",
    "            if len(ss) != 2:\n",
    "                continue\n",
    "            if int(ss[1]) == 1:\n",
    "                pos_files.append(ss[0])\n",
    "            else:\n",
    "                neg_files.append(ss[0])\n",
    "    for f in pos_files[:20]:\n",
    "        plot_attention_area(f)\n",
    "#     for f in neg_files[:20]:\n",
    "#         plot_attention_area(f)"
   ]
  },
  {
   "cell_type": "code",
   "execution_count": null,
   "metadata": {},
   "outputs": [],
   "source": [
    "plot_cam('./config/config_dr_xiongqiangjiye.json')"
   ]
  },
  {
   "cell_type": "code",
   "execution_count": null,
   "metadata": {},
   "outputs": [],
   "source": [
    "mask = np.arange(256)\n",
    "mask = np.reshape(mask, [16,16])\n",
    "mask = mask/255\n",
    "# mask = np.square(mask)\n",
    "heat_map = cv2.applyColorMap(np.uint8(255*mask), cv2.COLORMAP_JET)\n",
    "plt.figure()\n",
    "plt.imshow(heat_map)"
   ]
  },
  {
   "cell_type": "code",
   "execution_count": null,
   "metadata": {},
   "outputs": [],
   "source": []
  }
 ],
 "metadata": {
  "kernelspec": {
   "display_name": "Python [conda env:.conda-py36] *",
   "language": "python",
   "name": "conda-env-.conda-py36-py"
  },
  "language_info": {
   "codemirror_mode": {
    "name": "ipython",
    "version": 3
   },
   "file_extension": ".py",
   "mimetype": "text/x-python",
   "name": "python",
   "nbconvert_exporter": "python",
   "pygments_lexer": "ipython3",
   "version": "3.6.9"
  }
 },
 "nbformat": 4,
 "nbformat_minor": 2
}
