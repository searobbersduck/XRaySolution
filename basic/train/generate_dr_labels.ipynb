{
 "cells": [
  {
   "cell_type": "code",
   "execution_count": 1,
   "metadata": {},
   "outputs": [],
   "source": [
    "import os\n",
    "from glob import glob"
   ]
  },
  {
   "cell_type": "code",
   "execution_count": null,
   "metadata": {},
   "outputs": [],
   "source": [
    "folder_name1 = 'dr_deformable_1024'\n",
    "folder_name2 = 'xxx'\n",
    "\n",
    "root_dir = '/data/zhangwd/data/examples/{}'.format(folder_name1)\n",
    "train_pos_dir = '/data/zhangwd/data/examples/{}/{}_pos_train/'.format(folder_name1, folder_name2)\n",
    "train_neg_dir = '/data/zhangwd/data/examples/{}/{}_neg_train/'.format(folder_name1, folder_name2)\n",
    "\n",
    "val_pos_dir = '/data/zhangwd/data/examples/{}/{}_pos_val/'.format(folder_name1, folder_name2)\n",
    "val_neg_dir = '/data/zhangwd/data/examples/{}/{}_neg_val/'.format(folder_name1, folder_name2)\n",
    "\n",
    "test_pos_dir = '/data/zhangwd/data/examples/{}/{}_pos_test/'.format(folder_name1, folder_name2)\n",
    "test_neg_dir = '/data/zhangwd/data/examples/{}/{}_neg_test/'.format(folder_name1, folder_name2)"
   ]
  },
  {
   "cell_type": "code",
   "execution_count": 2,
   "metadata": {},
   "outputs": [],
   "source": [
    "# folder_name1 = 'dr_deformable'\n",
    "# folder_name2 = 'xxx'\n",
    "\n",
    "# root_dir = '/data/zhangwd/data/examples/dr_deformable'\n",
    "# train_pos_dir = '/data/zhangwd/data/examples/dr_deformable/total_pos_train/'\n",
    "# train_neg_dir = '/data/zhangwd/data/examples/dr_deformable/total_neg_train/'\n",
    "\n",
    "# val_pos_dir = '/data/zhangwd/data/examples/dr_deformable/total_pos_val/'\n",
    "# val_neg_dir = '/data/zhangwd/data/examples/dr_deformable/total_neg_val/'\n",
    "\n",
    "# test_pos_dir = '/data/zhangwd/data/examples/dr_deformable/total_pos_test/'\n",
    "# test_neg_dir = '/data/zhangwd/data/examples/dr_deformable/total_neg_test/'"
   ]
  },
  {
   "cell_type": "code",
   "execution_count": 3,
   "metadata": {},
   "outputs": [],
   "source": [
    "# root_dir = '/data/zhangwd/data/examples/dr'\n",
    "# train_pos_dir = '/data/zhangwd/data/examples/dr/total_pos_train/'\n",
    "# train_neg_dir = '/data/zhangwd/data/examples/dr/total_neg_train/'\n",
    "\n",
    "# val_pos_dir = '/data/zhangwd/data/examples/dr/total_pos_val/'\n",
    "# val_neg_dir = '/data/zhangwd/data/examples/dr/total_neg_val/'\n",
    "\n",
    "# test_pos_dir = '/data/zhangwd/data/examples/dr/total_pos_test/'\n",
    "# test_neg_dir = '/data/zhangwd/data/examples/dr/total_neg_test/'"
   ]
  },
  {
   "cell_type": "code",
   "execution_count": 4,
   "metadata": {},
   "outputs": [],
   "source": [
    "def generate_label_file(pos_dir, neg_dir, label_file):\n",
    "    pos_files = glob(os.path.join(pos_dir, '*.jpg'))\n",
    "    neg_files = glob(os.path.join(neg_dir, '*.jpg'))\n",
    "    with open(label_file, 'w') as f:\n",
    "        for pos_f in pos_files:\n",
    "            f.write('{}\\t{}\\n'.format(pos_f, 1))\n",
    "        for neg_f in neg_files:\n",
    "            f.write('{}\\t{}\\n'.format(neg_f, 0))\n",
    "    "
   ]
  },
  {
   "cell_type": "code",
   "execution_count": 5,
   "metadata": {},
   "outputs": [],
   "source": [
    "train_label_file = os.path.join(root_dir, 'train_label.txt')\n",
    "val_label_file = os.path.join(root_dir, 'val_label.txt')\n",
    "test_label_file = os.path.join(root_dir, 'test_label.txt')"
   ]
  },
  {
   "cell_type": "code",
   "execution_count": 6,
   "metadata": {},
   "outputs": [],
   "source": [
    "generate_label_file(train_pos_dir, train_neg_dir, train_label_file)\n",
    "generate_label_file(val_pos_dir, val_neg_dir, val_label_file)\n",
    "generate_label_file(test_pos_dir, test_neg_dir, test_label_file)"
   ]
  },
  {
   "cell_type": "code",
   "execution_count": null,
   "metadata": {},
   "outputs": [],
   "source": []
  }
 ],
 "metadata": {
  "kernelspec": {
   "display_name": "Python 3",
   "language": "python",
   "name": "python3"
  },
  "language_info": {
   "codemirror_mode": {
    "name": "ipython",
    "version": 3
   },
   "file_extension": ".py",
   "mimetype": "text/x-python",
   "name": "python",
   "nbconvert_exporter": "python",
   "pygments_lexer": "ipython3",
   "version": "3.6.8"
  }
 },
 "nbformat": 4,
 "nbformat_minor": 2
}
