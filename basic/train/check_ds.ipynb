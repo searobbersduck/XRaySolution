{
 "cells": [
  {
   "cell_type": "code",
   "execution_count": 1,
   "metadata": {},
   "outputs": [],
   "source": [
    "import os\n",
    "os.environ[\"CUDA_VISIBLE_DEVICES\"] = \"5,7\"\n",
    "import numpy as np\n",
    "import sys\n",
    "import scipy.ndimage as nd\n",
    "import json\n",
    "import pickle\n",
    "import torch\n",
    "import torch.nn as nn\n",
    "import torchvision\n",
    "from torch.utils.data import Dataset, DataLoader\n",
    "from resnet import *\n",
    "import torch.optim as optim\n",
    "from torch.autograd import Variable\n",
    "import torch.backends.cudnn as cudnn\n",
    "import time\n",
    "import math\n",
    "from utils import AverageMeter\n",
    "import cv2\n",
    "from PIL import Image\n",
    "import torchvision.transforms as transforms\n",
    "import torch.nn.functional as F\n",
    "from dr_model import DRModel"
   ]
  },
  {
   "cell_type": "code",
   "execution_count": 9,
   "metadata": {},
   "outputs": [],
   "source": [
    "class BinClsDataSet(torch.utils.data.Dataset):\n",
    "    def __init__(self, config_file):\n",
    "        self.images_list = []\n",
    "        self.labels_list = []\n",
    "        with open(config_file, 'r') as f:\n",
    "            for line in f.readlines():\n",
    "                line = line.strip()\n",
    "                if line is None or len(line) == 0:\n",
    "                    continue\n",
    "                ss = line.split('\\t')\n",
    "                if len(ss) != 2:\n",
    "                    continue\n",
    "                if not os.path.isfile(ss[0]):\n",
    "                    continue\n",
    "                self.images_list.append(ss[0])\n",
    "                self.labels_list.append(ss[1])\n",
    "        self.transform = transforms.Compose([\n",
    "#             transforms.RandomHorizontalFlip(),\n",
    "            transforms.ToTensor()\n",
    "#             transforms.Normalize(mean=[0], std=[255])\n",
    "        ])\n",
    "    def __getitem__(self, item):\n",
    "        image = self.transform(Image.open(self.images_list[item]))\n",
    "        return image, int(self.labels_list[item]), self.images_list[item]\n",
    "    def __len__(self):\n",
    "        return len(self.images_list)"
   ]
  },
  {
   "cell_type": "code",
   "execution_count": 10,
   "metadata": {},
   "outputs": [
    {
     "name": "stdout",
     "output_type": "stream",
     "text": [
      "torch.Size([2, 1, 1024, 1024])\n",
      "tensor([1, 0])\n"
     ]
    }
   ],
   "source": [
    "ds = BinClsDataSet(config_file='/data/zhangwd/data/examples/dr/train_label.txt')\n",
    "dataloader = DataLoader(ds, batch_size=2, \n",
    "                                     shuffle=True, num_workers=2, \n",
    "                                     pin_memory=True)\n",
    "for i, (images, labels, files) in enumerate(dataloader):\n",
    "    print(images.shape)\n",
    "    print(labels)\n",
    "    break"
   ]
  },
  {
   "cell_type": "code",
   "execution_count": 11,
   "metadata": {},
   "outputs": [
    {
     "data": {
      "text/plain": [
       "['/data/zhangwd/data/examples/dr/total_pos_train/thread_4_161.jpg',\n",
       " '/data/zhangwd/data/examples/dr/total_neg_train/thread_7_140.jpg']"
      ]
     },
     "execution_count": 11,
     "metadata": {},
     "output_type": "execute_result"
    }
   ],
   "source": [
    "files"
   ]
  },
  {
   "cell_type": "code",
   "execution_count": 13,
   "metadata": {},
   "outputs": [
    {
     "data": {
      "text/plain": [
       "1.0"
      ]
     },
     "execution_count": 13,
     "metadata": {},
     "output_type": "execute_result"
    }
   ],
   "source": [
    "images.numpy()[0].max()"
   ]
  },
  {
   "cell_type": "code",
   "execution_count": null,
   "metadata": {},
   "outputs": [],
   "source": []
  }
 ],
 "metadata": {
  "kernelspec": {
   "display_name": "Python 3",
   "language": "python",
   "name": "python3"
  },
  "language_info": {
   "codemirror_mode": {
    "name": "ipython",
    "version": 3
   },
   "file_extension": ".py",
   "mimetype": "text/x-python",
   "name": "python",
   "nbconvert_exporter": "python",
   "pygments_lexer": "ipython3",
   "version": "3.6.8"
  }
 },
 "nbformat": 4,
 "nbformat_minor": 2
}
