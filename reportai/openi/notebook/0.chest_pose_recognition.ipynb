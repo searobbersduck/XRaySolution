{
 "cells": [
  {
   "cell_type": "code",
   "execution_count": 1,
   "metadata": {},
   "outputs": [],
   "source": [
    "import os\n",
    "import numpy as np\n",
    "import pickle\n",
    "from tensorrtserver.api import *\n",
    "import cv2\n",
    "import time\n",
    "from glob import glob\n",
    "from tqdm import tqdm"
   ]
  },
  {
   "cell_type": "code",
   "execution_count": 2,
   "metadata": {},
   "outputs": [],
   "source": [
    "def get_img(infile):\n",
    "    img_raw = cv2.imread(infile, cv2.IMREAD_GRAYSCALE)\n",
    "    img = cv2.resize(img_raw, (1024,1024))\n",
    "    img = np.array(img, dtype=np.float32)\n",
    "    img = img/255\n",
    "    img = np.expand_dims(img, 0)\n",
    "    return img"
   ]
  },
  {
   "cell_type": "code",
   "execution_count": 3,
   "metadata": {},
   "outputs": [],
   "source": [
    "def infer_with_trt(test_file, service_ip, service_port, service_name, out_dir):\n",
    "    protocol = ProtocolType.from_str('http')\n",
    "    # ctx = InferContext('10.100.37.20:19992', protocol, 'dr_cls', -1, True)\n",
    "    # ctx = InferContext('10.100.37.20:19992', protocol, 'feibuzhang_cls', -1, True)\n",
    "    ctx = InferContext('{}:{}'.format(service_ip, service_port), protocol, service_name, -1, True)\n",
    "\n",
    "    # test_file = '/data/zhangwd/data/examples/dr_deformable/test_label.txt'\n",
    "\n",
    "    infiles = glob('./xray_data/data/*.png')\n",
    "    zhengwei_list = []\n",
    "    lateral_list = []\n",
    "    error_list = []\n",
    "    for infile in tqdm(infiles):\n",
    "        img = get_img(infile)\n",
    "        result = ctx.run({'images': (img,)}, {'result': (InferContext.ResultFormat.CLASS, 5)}, 1)\n",
    "#         print(int(result['result'][0][0][0]))\n",
    "        pos = int(result['result'][0][0][0])\n",
    "        basename = os.path.basename(infile)\n",
    "        if pos == 0:\n",
    "            zhengwei_list.append(basename)\n",
    "        elif pos == 1:\n",
    "            lateral_list.append(basename)\n",
    "        else:\n",
    "            error_list.append(basename)\n",
    "    with open('./xray_data/zhengwei.txt', 'w') as f:\n",
    "        f.write('\\n'.join(zhengwei_list))\n",
    "    with open('./xray_data/lateral.txt', 'w') as f:\n",
    "        f.write('\\n'.join(lateral_list))\n",
    "    with open('./xray_data/error.txt', 'w') as f:\n",
    "        f.write('\\n'.join(error_list))\n",
    "    print('frontal cnt:\\t{}'.format(len(zhengwei_list)))\n",
    "    print('lateral cnt:\\t{}'.format(len(lateral_list)))\n",
    "    print('error cnt:\\t{}'.format(len(error_list)))"
   ]
  },
  {
   "cell_type": "code",
   "execution_count": 4,
   "metadata": {},
   "outputs": [
    {
     "name": "stderr",
     "output_type": "stream",
     "text": [
      "100%|██████████| 7470/7470 [20:39<00:00,  6.03it/s]"
     ]
    },
    {
     "name": "stdout",
     "output_type": "stream",
     "text": [
      "frontal cnt:\t2928\n",
      "lateral cnt:\t4285\n",
      "error cnt:\t257\n"
     ]
    },
    {
     "name": "stderr",
     "output_type": "stream",
     "text": [
      "\n"
     ]
    }
   ],
   "source": [
    "infer_with_trt(None, '10.100.37.20', '19991', 'dr_pos_recog', None)"
   ]
  }
 ],
 "metadata": {
  "kernelspec": {
   "display_name": "Python [conda env:.conda-py36] *",
   "language": "python",
   "name": "conda-env-.conda-py36-py"
  },
  "language_info": {
   "codemirror_mode": {
    "name": "ipython",
    "version": 3
   },
   "file_extension": ".py",
   "mimetype": "text/x-python",
   "name": "python",
   "nbconvert_exporter": "python",
   "pygments_lexer": "ipython3",
   "version": "3.6.9"
  }
 },
 "nbformat": 4,
 "nbformat_minor": 2
}
