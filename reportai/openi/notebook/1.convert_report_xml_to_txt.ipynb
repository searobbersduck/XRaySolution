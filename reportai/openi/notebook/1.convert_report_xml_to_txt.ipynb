{
 "cells": [
  {
   "cell_type": "code",
   "execution_count": 1,
   "metadata": {},
   "outputs": [],
   "source": [
    "import os\n",
    "from xml.etree.ElementTree import parse\n",
    "from glob import glob"
   ]
  },
  {
   "cell_type": "code",
   "execution_count": 2,
   "metadata": {},
   "outputs": [],
   "source": [
    "infile='xray_data/ecgen-radiology/2263.xml'"
   ]
  },
  {
   "cell_type": "code",
   "execution_count": 3,
   "metadata": {},
   "outputs": [],
   "source": [
    "doc = parse(infile)"
   ]
  },
  {
   "cell_type": "code",
   "execution_count": 4,
   "metadata": {},
   "outputs": [],
   "source": [
    "node_root = doc.getroot()"
   ]
  },
  {
   "cell_type": "code",
   "execution_count": 5,
   "metadata": {},
   "outputs": [],
   "source": [
    "# dir(node_root)"
   ]
  },
  {
   "cell_type": "code",
   "execution_count": 6,
   "metadata": {},
   "outputs": [
    {
     "name": "stdout",
     "output_type": "stream",
     "text": [
      "<Element 'AbstractText' at 0x7f72905b5048>\n",
      "<Element 'AbstractText' at 0x7f72905b5098>\n",
      "<Element 'AbstractText' at 0x7f72905b5138>\n",
      "Heart size moderately enlarged, stable mediastinal contours. XXXX XXXX opacity in the left lung base. Otherwise, no focal alveolar consolidation, no definite pleural effusion seen. No typical findings of pulmonary edema.\n",
      "<Element 'AbstractText' at 0x7f72905b5188>\n"
     ]
    }
   ],
   "source": [
    "for node_x in node_root.iterfind('MedlineCitation/Article/Abstract/AbstractText'):\n",
    "    print(node_x)\n",
    "    if node_x.get('Label') == 'FINDINGS':\n",
    "        print(node_x.text)"
   ]
  },
  {
   "cell_type": "code",
   "execution_count": 7,
   "metadata": {},
   "outputs": [
    {
     "data": {
      "text/plain": [
       "<Element 'AbstractText' at 0x7f72905b5048>"
      ]
     },
     "execution_count": 7,
     "metadata": {},
     "output_type": "execute_result"
    }
   ],
   "source": [
    "node_root.find('MedlineCitation/Article/Abstract/AbstractText')"
   ]
  },
  {
   "cell_type": "code",
   "execution_count": 8,
   "metadata": {},
   "outputs": [
    {
     "data": {
      "text/plain": [
       "'CXR2263_IM-0853-1001'"
      ]
     },
     "execution_count": 8,
     "metadata": {},
     "output_type": "execute_result"
    }
   ],
   "source": [
    "node_root.find('parentImage').get('id')"
   ]
  },
  {
   "cell_type": "code",
   "execution_count": 9,
   "metadata": {},
   "outputs": [],
   "source": [
    "zhengwei_file = './xray_data/zhengwei.txt'\n",
    "zhengwei_list = []\n",
    "with open(zhengwei_file, 'r') as f:\n",
    "    for line in f.readlines():\n",
    "        line = line.strip()\n",
    "        if line is None or len(line) == 0:\n",
    "            continue\n",
    "        zhengwei_list.append(line.split('.')[0])"
   ]
  },
  {
   "cell_type": "code",
   "execution_count": 10,
   "metadata": {},
   "outputs": [],
   "source": [
    "# begin ['.',',','[','(']\n",
    "# end [';', '?', ':', '.', ',', ')', '/']\n",
    "def replace_word(inword):\n",
    "    beg_c = ['.',',','[','(']\n",
    "    end_c = [';', '?', ':', '.', ',', ')', '/']\n",
    "    if len(inword) == 1:\n",
    "        return inword\n",
    "    if inword[0] in beg_c:\n",
    "        inword = inword[0] + ' ' + inword[1:]\n",
    "    if inword[-1] in end_c:\n",
    "        inword = inword[:-1]+' '+inword[-1]\n",
    "    return inword"
   ]
  },
  {
   "cell_type": "code",
   "execution_count": 11,
   "metadata": {},
   "outputs": [],
   "source": [
    "# xml 中的数据读取到txt中，每行的格式为 “findings\\timage_id0\\timage_id1\\timage_id2\\t...”\n",
    "def gen_report_txt(report_in):\n",
    "    doc = parse(report_in)\n",
    "    node_root = doc.getroot()\n",
    "    findings = ''\n",
    "    images = []\n",
    "    try:\n",
    "        for node_x in node_root.iterfind('MedlineCitation/Article/Abstract/AbstractText'):\n",
    "            if node_x.get('Label') == 'FINDINGS':\n",
    "                findings = node_x.text\n",
    "                if findings is None:\n",
    "                    return None\n",
    "                ss = findings.split()\n",
    "                ss1 = [replace_word(i) for i in ss]\n",
    "                findings = ' '.join(ss1)\n",
    "        for node_x in node_root.iterfind('parentImage'):\n",
    "            img_id = node_x.get('id')\n",
    "            if img_id in zhengwei_list:\n",
    "                images.append(node_x.get('id'))\n",
    "        \n",
    "        out = '{}'.format(findings)\n",
    "        for img in images:\n",
    "            if img is None:\n",
    "                return None\n",
    "            out += '\\t{}'.format(img)\n",
    "    except:\n",
    "        return None\n",
    "    return out"
   ]
  },
  {
   "cell_type": "code",
   "execution_count": 12,
   "metadata": {},
   "outputs": [],
   "source": [
    "indir = './xray_data/ecgen-radiology/'\n",
    "xml_list = glob(os.path.join(indir, '*.xml'))\n",
    "out_list = [gen_report_txt(i) for i in xml_list]"
   ]
  },
  {
   "cell_type": "code",
   "execution_count": 13,
   "metadata": {},
   "outputs": [
    {
     "data": {
      "text/plain": [
       "['Heart size moderately enlarged , stable mediastinal contours . XXXX XXXX opacity in the left lung base . Otherwise , no focal alveolar consolidation , no definite pleural effusion seen . No typical findings of pulmonary edema .\\tCXR2263_IM-0853-1001',\n",
       " None,\n",
       " 'Normal heart size . Stable tortuous thoracic aorta . Prior granulomatous disease . Healed rib fractures appear stable . Focal opacity is noted in the left midlung overlying the 9th posterior rib which XXXX represents healing rib callus . No pneumothorax or pleural effusion .\\tCXR2138_IM-0760-1001',\n",
       " 'Heart size is moderately enlarged . The pulmonary XXXX and mediastinum are within normal limits . There is no pleural effusion or pneumothorax . There is suspected right lower lobe airspace opacity XXXX demonstrated on the lateral study . There is a fracture of superior sternotomy XXXX unchanged .',\n",
       " 'Heart size within normal limits , stable mediastinal and hilar contours . Stable mild hyperinflation , right apical pleural-parenchymal irregularities compatible with scarring . No focal alveolar consolidation , no definite pleural effusion seen . No typical findings of pulmonary edema . No pneumothorax .\\tCXR2516_IM-1036-1001',\n",
       " 'The heart is normal in size and contour . The lungs are clear , without evidence of infiltrate . There is no pneumothorax or effusion .\\tCXR69_IM-2258-1001',\n",
       " 'There are XXXX bilateral lower lobe opacities . No pleural effusion . No pneumothorax is identified . Heart size and mediastinal contour are within normal limits . There is lucency beneath the diaphragm , consistent with pneumoperitoneum . Cholecystectomy clips are noted in the right upper quadrant .',\n",
       " 'The heart size is normal . The mediastinal contour is within normal limits . There are multiple calcified granulomas within the left lower lobe . The lungs are free of any focal infiltrates . There are no nodules or masses . No visible pneumothorax . No visible pleural fluid . The XXXX are grossly normal . There is no visible free intraperitoneal air under the diaphragm .\\tCXR3424_IM-1656-1001',\n",
       " 'Heart size and vascularity normal . Lungs clear . No effusions or pneumothorax . Limited degenerative change of the spine\\tCXR653_IM-2230-1001',\n",
       " 'Lungs are clear without focal infiltrates . No pneumothorax or pleural effusion . Normal heart size . Normal pulmonary vascularity . Bony thorax intact .\\tCXR2391_IM-0944-1001']"
      ]
     },
     "execution_count": 13,
     "metadata": {},
     "output_type": "execute_result"
    }
   ],
   "source": [
    "out_list[:10]"
   ]
  },
  {
   "cell_type": "code",
   "execution_count": 14,
   "metadata": {},
   "outputs": [],
   "source": [
    "out_list_norm = [i for i in out_list if i is not None]"
   ]
  },
  {
   "cell_type": "code",
   "execution_count": 15,
   "metadata": {},
   "outputs": [
    {
     "data": {
      "text/plain": [
       "3955"
      ]
     },
     "execution_count": 15,
     "metadata": {},
     "output_type": "execute_result"
    }
   ],
   "source": [
    "len(out_list)"
   ]
  },
  {
   "cell_type": "code",
   "execution_count": 16,
   "metadata": {},
   "outputs": [
    {
     "data": {
      "text/plain": [
       "3425"
      ]
     },
     "execution_count": 16,
     "metadata": {},
     "output_type": "execute_result"
    }
   ],
   "source": [
    "len(out_list_norm)"
   ]
  },
  {
   "cell_type": "code",
   "execution_count": 17,
   "metadata": {},
   "outputs": [],
   "source": [
    "with open('./xray_data/findings1.txt', 'w') as f:\n",
    "    f.write('\\n'.join(out_list_norm))"
   ]
  },
  {
   "cell_type": "code",
   "execution_count": 18,
   "metadata": {},
   "outputs": [
    {
     "name": "stdout",
     "output_type": "stream",
     "text": [
      "\u001b[0m\u001b[01;34mdata\u001b[0m/      \u001b[01;34mecgen-radiology\u001b[0m/  findings1.txt  \u001b[01;31mNLMCXR_png.tgz\u001b[0m      \u001b[01;34mvocab\u001b[0m/\r\n",
      "\u001b[01;34mdata_256\u001b[0m/  error.txt         findings.txt   \u001b[01;31mNLMCXR_reports.tgz\u001b[0m  zhengwei.txt\r\n",
      "\u001b[01;34mdata_512\u001b[0m/  \u001b[01;34mfeatures\u001b[0m/         lateral.txt    Thumbs.db\r\n"
     ]
    }
   ],
   "source": [
    "ls ./xray_data/"
   ]
  },
  {
   "cell_type": "code",
   "execution_count": null,
   "metadata": {},
   "outputs": [],
   "source": []
  },
  {
   "cell_type": "code",
   "execution_count": null,
   "metadata": {},
   "outputs": [],
   "source": []
  }
 ],
 "metadata": {
  "kernelspec": {
   "display_name": "Python [conda env:.conda-py36] *",
   "language": "python",
   "name": "conda-env-.conda-py36-py"
  },
  "language_info": {
   "codemirror_mode": {
    "name": "ipython",
    "version": 3
   },
   "file_extension": ".py",
   "mimetype": "text/x-python",
   "name": "python",
   "nbconvert_exporter": "python",
   "pygments_lexer": "ipython3",
   "version": "3.6.9"
  }
 },
 "nbformat": 4,
 "nbformat_minor": 2
}
